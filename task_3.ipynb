{
 "cells": [
  {
   "cell_type": "code",
   "execution_count": 1,
   "id": "cfbf1d3a",
   "metadata": {},
   "outputs": [],
   "source": [
    "import numpy as np\n",
    "import pandas as pd\n",
    "import matplotlib.pyplot as plt"
   ]
  },
  {
   "cell_type": "code",
   "execution_count": 2,
   "id": "38f98525",
   "metadata": {},
   "outputs": [],
   "source": [
    "data = pd.read_csv('./Dataset .csv')"
   ]
  },
  {
   "cell_type": "code",
   "execution_count": 3,
   "id": "dbb3c60b",
   "metadata": {},
   "outputs": [
    {
     "data": {
      "text/html": [
       "<div>\n",
       "<style scoped>\n",
       "    .dataframe tbody tr th:only-of-type {\n",
       "        vertical-align: middle;\n",
       "    }\n",
       "\n",
       "    .dataframe tbody tr th {\n",
       "        vertical-align: top;\n",
       "    }\n",
       "\n",
       "    .dataframe thead th {\n",
       "        text-align: right;\n",
       "    }\n",
       "</style>\n",
       "<table border=\"1\" class=\"dataframe\">\n",
       "  <thead>\n",
       "    <tr style=\"text-align: right;\">\n",
       "      <th></th>\n",
       "      <th>Restaurant ID</th>\n",
       "      <th>Restaurant Name</th>\n",
       "      <th>Country Code</th>\n",
       "      <th>City</th>\n",
       "      <th>Address</th>\n",
       "      <th>Locality</th>\n",
       "      <th>Locality Verbose</th>\n",
       "      <th>Longitude</th>\n",
       "      <th>Latitude</th>\n",
       "      <th>Cuisines</th>\n",
       "      <th>...</th>\n",
       "      <th>Currency</th>\n",
       "      <th>Has Table booking</th>\n",
       "      <th>Has Online delivery</th>\n",
       "      <th>Is delivering now</th>\n",
       "      <th>Switch to order menu</th>\n",
       "      <th>Price range</th>\n",
       "      <th>Aggregate rating</th>\n",
       "      <th>Rating color</th>\n",
       "      <th>Rating text</th>\n",
       "      <th>Votes</th>\n",
       "    </tr>\n",
       "  </thead>\n",
       "  <tbody>\n",
       "    <tr>\n",
       "      <th>0</th>\n",
       "      <td>6317637</td>\n",
       "      <td>Le Petit Souffle</td>\n",
       "      <td>162</td>\n",
       "      <td>Makati City</td>\n",
       "      <td>Third Floor, Century City Mall, Kalayaan Avenu...</td>\n",
       "      <td>Century City Mall, Poblacion, Makati City</td>\n",
       "      <td>Century City Mall, Poblacion, Makati City, Mak...</td>\n",
       "      <td>121.027535</td>\n",
       "      <td>14.565443</td>\n",
       "      <td>French, Japanese, Desserts</td>\n",
       "      <td>...</td>\n",
       "      <td>Botswana Pula(P)</td>\n",
       "      <td>Yes</td>\n",
       "      <td>No</td>\n",
       "      <td>No</td>\n",
       "      <td>No</td>\n",
       "      <td>3</td>\n",
       "      <td>4.8</td>\n",
       "      <td>Dark Green</td>\n",
       "      <td>Excellent</td>\n",
       "      <td>314</td>\n",
       "    </tr>\n",
       "    <tr>\n",
       "      <th>1</th>\n",
       "      <td>6304287</td>\n",
       "      <td>Izakaya Kikufuji</td>\n",
       "      <td>162</td>\n",
       "      <td>Makati City</td>\n",
       "      <td>Little Tokyo, 2277 Chino Roces Avenue, Legaspi...</td>\n",
       "      <td>Little Tokyo, Legaspi Village, Makati City</td>\n",
       "      <td>Little Tokyo, Legaspi Village, Makati City, Ma...</td>\n",
       "      <td>121.014101</td>\n",
       "      <td>14.553708</td>\n",
       "      <td>Japanese</td>\n",
       "      <td>...</td>\n",
       "      <td>Botswana Pula(P)</td>\n",
       "      <td>Yes</td>\n",
       "      <td>No</td>\n",
       "      <td>No</td>\n",
       "      <td>No</td>\n",
       "      <td>3</td>\n",
       "      <td>4.5</td>\n",
       "      <td>Dark Green</td>\n",
       "      <td>Excellent</td>\n",
       "      <td>591</td>\n",
       "    </tr>\n",
       "  </tbody>\n",
       "</table>\n",
       "<p>2 rows × 21 columns</p>\n",
       "</div>"
      ],
      "text/plain": [
       "   Restaurant ID   Restaurant Name  Country Code         City  \\\n",
       "0        6317637  Le Petit Souffle           162  Makati City   \n",
       "1        6304287  Izakaya Kikufuji           162  Makati City   \n",
       "\n",
       "                                             Address  \\\n",
       "0  Third Floor, Century City Mall, Kalayaan Avenu...   \n",
       "1  Little Tokyo, 2277 Chino Roces Avenue, Legaspi...   \n",
       "\n",
       "                                     Locality  \\\n",
       "0   Century City Mall, Poblacion, Makati City   \n",
       "1  Little Tokyo, Legaspi Village, Makati City   \n",
       "\n",
       "                                    Locality Verbose   Longitude   Latitude  \\\n",
       "0  Century City Mall, Poblacion, Makati City, Mak...  121.027535  14.565443   \n",
       "1  Little Tokyo, Legaspi Village, Makati City, Ma...  121.014101  14.553708   \n",
       "\n",
       "                     Cuisines  ...          Currency Has Table booking  \\\n",
       "0  French, Japanese, Desserts  ...  Botswana Pula(P)               Yes   \n",
       "1                    Japanese  ...  Botswana Pula(P)               Yes   \n",
       "\n",
       "  Has Online delivery Is delivering now Switch to order menu Price range  \\\n",
       "0                  No                No                   No           3   \n",
       "1                  No                No                   No           3   \n",
       "\n",
       "   Aggregate rating  Rating color Rating text Votes  \n",
       "0               4.8    Dark Green   Excellent   314  \n",
       "1               4.5    Dark Green   Excellent   591  \n",
       "\n",
       "[2 rows x 21 columns]"
      ]
     },
     "execution_count": 3,
     "metadata": {},
     "output_type": "execute_result"
    }
   ],
   "source": [
    "data.head(2)"
   ]
  },
  {
   "cell_type": "markdown",
   "id": "32b222e9",
   "metadata": {},
   "source": [
    "Here the goal is to classify the restaurants based on the cusines that they serve.\n",
    "\n",
    "Steps:\n",
    "- First we need to preprocess the data\n",
    "- Drop unnessary columns\n",
    "- Then categorical to int conversion\n",
    "- Train test split\n",
    "- model building\n",
    "- data visualization"
   ]
  },
  {
   "cell_type": "code",
   "execution_count": 4,
   "id": "0bb01638",
   "metadata": {},
   "outputs": [
    {
     "data": {
      "text/plain": [
       "Index(['Restaurant ID', 'Restaurant Name', 'Country Code', 'City', 'Address',\n",
       "       'Locality', 'Locality Verbose', 'Longitude', 'Latitude', 'Cuisines',\n",
       "       'Average Cost for two', 'Currency', 'Has Table booking',\n",
       "       'Has Online delivery', 'Is delivering now', 'Switch to order menu',\n",
       "       'Price range', 'Aggregate rating', 'Rating color', 'Rating text',\n",
       "       'Votes'],\n",
       "      dtype='object')"
      ]
     },
     "execution_count": 4,
     "metadata": {},
     "output_type": "execute_result"
    }
   ],
   "source": [
    "data.columns"
   ]
  },
  {
   "cell_type": "code",
   "execution_count": 5,
   "id": "035522da",
   "metadata": {},
   "outputs": [],
   "source": [
    "df = data.drop(['Restaurant ID','City','Address','Locality','Locality Verbose','Longitude',\n",
    "               'Latitude','Switch to order menu','Rating text'], axis=1)"
   ]
  },
  {
   "cell_type": "code",
   "execution_count": 6,
   "id": "02ede05c",
   "metadata": {},
   "outputs": [
    {
     "name": "stdout",
     "output_type": "stream",
     "text": [
      "<class 'pandas.core.frame.DataFrame'>\n",
      "RangeIndex: 9551 entries, 0 to 9550\n",
      "Data columns (total 12 columns):\n",
      " #   Column                Non-Null Count  Dtype  \n",
      "---  ------                --------------  -----  \n",
      " 0   Restaurant Name       9551 non-null   object \n",
      " 1   Country Code          9551 non-null   int64  \n",
      " 2   Cuisines              9542 non-null   object \n",
      " 3   Average Cost for two  9551 non-null   int64  \n",
      " 4   Currency              9551 non-null   object \n",
      " 5   Has Table booking     9551 non-null   object \n",
      " 6   Has Online delivery   9551 non-null   object \n",
      " 7   Is delivering now     9551 non-null   object \n",
      " 8   Price range           9551 non-null   int64  \n",
      " 9   Aggregate rating      9551 non-null   float64\n",
      " 10  Rating color          9551 non-null   object \n",
      " 11  Votes                 9551 non-null   int64  \n",
      "dtypes: float64(1), int64(4), object(7)\n",
      "memory usage: 895.5+ KB\n"
     ]
    }
   ],
   "source": [
    "df.info()"
   ]
  },
  {
   "cell_type": "code",
   "execution_count": 7,
   "id": "3a10a523",
   "metadata": {},
   "outputs": [
    {
     "name": "stdout",
     "output_type": "stream",
     "text": [
      "<class 'pandas.core.frame.DataFrame'>\n",
      "Int64Index: 9542 entries, 0 to 9550\n",
      "Data columns (total 12 columns):\n",
      " #   Column                Non-Null Count  Dtype  \n",
      "---  ------                --------------  -----  \n",
      " 0   Restaurant Name       9542 non-null   object \n",
      " 1   Country Code          9542 non-null   int64  \n",
      " 2   Cuisines              9542 non-null   object \n",
      " 3   Average Cost for two  9542 non-null   int64  \n",
      " 4   Currency              9542 non-null   object \n",
      " 5   Has Table booking     9542 non-null   object \n",
      " 6   Has Online delivery   9542 non-null   object \n",
      " 7   Is delivering now     9542 non-null   object \n",
      " 8   Price range           9542 non-null   int64  \n",
      " 9   Aggregate rating      9542 non-null   float64\n",
      " 10  Rating color          9542 non-null   object \n",
      " 11  Votes                 9542 non-null   int64  \n",
      "dtypes: float64(1), int64(4), object(7)\n",
      "memory usage: 969.1+ KB\n"
     ]
    }
   ],
   "source": [
    "df = df.dropna()\n",
    "df.info()"
   ]
  },
  {
   "cell_type": "markdown",
   "id": "47d86662",
   "metadata": {},
   "source": [
    "Now we need to generate or define the target variable.\n",
    "Since no target variable is given and out motto is to classify the restaurats based on cuisines, \n",
    "we will take the target variable as the main theme of food of the restaurant like  italian or chinese or indian like that.\n",
    "\n",
    "For this we need to consider the first cuisine in thier cuisine column as the main cuisine or target variable."
   ]
  },
  {
   "cell_type": "code",
   "execution_count": 8,
   "id": "cf09bda4",
   "metadata": {},
   "outputs": [
    {
     "name": "stdout",
     "output_type": "stream",
     "text": [
      "          Restaurant Name  Country Code                          Cuisines  \\\n",
      "0        Le Petit Souffle           162        French, Japanese, Desserts   \n",
      "1        Izakaya Kikufuji           162                          Japanese   \n",
      "2  Heat - Edsa Shangri-La           162  Seafood, Asian, Filipino, Indian   \n",
      "3                    Ooma           162                   Japanese, Sushi   \n",
      "4             Sambo Kojin           162                  Japanese, Korean   \n",
      "\n",
      "   Average Cost for two  Currency  Has Table booking  Has Online delivery  \\\n",
      "0                  1100         0                  1                    0   \n",
      "1                  1200         0                  1                    0   \n",
      "2                  4000         0                  1                    0   \n",
      "3                  1500         0                  0                    0   \n",
      "4                  1500         0                  1                    0   \n",
      "\n",
      "   Is delivering now  Price range  Aggregate rating  Rating color  Votes  \n",
      "0                  0            3               4.8             0    314  \n",
      "1                  0            3               4.5             0    591  \n",
      "2                  0            4               4.4             1    270  \n",
      "3                  0            4               4.9             0    365  \n",
      "4                  0            4               4.8             0    229  \n"
     ]
    }
   ],
   "source": [
    "from sklearn.preprocessing import LabelEncoder\n",
    "\n",
    "cols = df.select_dtypes(include='object').columns.tolist()\n",
    "cols.remove('Restaurant Name')\n",
    "cols.remove('Cuisines')\n",
    "for i in cols:\n",
    "    le = LabelEncoder()\n",
    "    df[i] = le.fit_transform(df[i])\n",
    "print(df.head())"
   ]
  },
  {
   "cell_type": "code",
   "execution_count": 9,
   "id": "1faf9ff7",
   "metadata": {},
   "outputs": [
    {
     "name": "stdout",
     "output_type": "stream",
     "text": [
      "    Restaurant Name  Country Code                    Cuisines  \\\n",
      "0  Le Petit Souffle           162  French, Japanese, Desserts   \n",
      "1  Izakaya Kikufuji           162                    Japanese   \n",
      "\n",
      "   Average Cost for two  Currency  Has Table booking  Has Online delivery  \\\n",
      "0                  1100         0                  1                    0   \n",
      "1                  1200         0                  1                    0   \n",
      "\n",
      "   Is delivering now  Price range  Aggregate rating  Rating color  Votes  \\\n",
      "0                  0            3               4.8             0    314   \n",
      "1                  0            3               4.5             0    591   \n",
      "\n",
      "                   Cuisine_list  \n",
      "0  [French, Japanese, Desserts]  \n",
      "1                    [Japanese]  \n"
     ]
    }
   ],
   "source": [
    "df['Cuisine_list'] = df['Cuisines'].str.split(', ')\n",
    "print(df.head(2))"
   ]
  },
  {
   "cell_type": "code",
   "execution_count": 12,
   "id": "afde6fb6",
   "metadata": {},
   "outputs": [
    {
     "name": "stdout",
     "output_type": "stream",
     "text": [
      "0                French\n",
      "1              Japanese\n",
      "2               Seafood\n",
      "3              Japanese\n",
      "4              Japanese\n",
      "             ...       \n",
      "9546            Turkish\n",
      "9547      World Cuisine\n",
      "9548            Italian\n",
      "9549    Restaurant Cafe\n",
      "9550               Cafe\n",
      "Name: Target, Length: 9542, dtype: object\n"
     ]
    }
   ],
   "source": [
    "df['Target'] = df['Cuisine_list'].apply(lambda x:x[0] if len(x)>0 else None)"
   ]
  },
  {
   "cell_type": "code",
   "execution_count": 13,
   "id": "35769ff8",
   "metadata": {},
   "outputs": [],
   "source": [
    "from sklearn.preprocessing import MultiLabelBinarizer"
   ]
  },
  {
   "cell_type": "code",
   "execution_count": 14,
   "id": "16057bd0",
   "metadata": {},
   "outputs": [
    {
     "name": "stdout",
     "output_type": "stream",
     "text": [
      "               Restaurant Name  Country Code  \\\n",
      "0             Le Petit Souffle           162   \n",
      "1             Izakaya Kikufuji           162   \n",
      "2       Heat - Edsa Shangri-La           162   \n",
      "3                         Ooma           162   \n",
      "4                  Sambo Kojin           162   \n",
      "...                        ...           ...   \n",
      "9546               Naml۱ Gurme           208   \n",
      "9547              Ceviz A��ac۱           208   \n",
      "9548                     Huqqa           208   \n",
      "9549               A���k Kahve           208   \n",
      "9550  Walter's Coffee Roastery           208   \n",
      "\n",
      "                              Cuisines  Average Cost for two  Currency  \\\n",
      "0           French, Japanese, Desserts                  1100         0   \n",
      "1                             Japanese                  1200         0   \n",
      "2     Seafood, Asian, Filipino, Indian                  4000         0   \n",
      "3                      Japanese, Sushi                  1500         0   \n",
      "4                     Japanese, Korean                  1500         0   \n",
      "...                                ...                   ...       ...   \n",
      "9546                           Turkish                    80        11   \n",
      "9547   World Cuisine, Patisserie, Cafe                   105        11   \n",
      "9548            Italian, World Cuisine                   170        11   \n",
      "9549                   Restaurant Cafe                   120        11   \n",
      "9550                              Cafe                    55        11   \n",
      "\n",
      "      Has Table booking  Has Online delivery  Is delivering now  Price range  \\\n",
      "0                     1                    0                  0            3   \n",
      "1                     1                    0                  0            3   \n",
      "2                     1                    0                  0            4   \n",
      "3                     0                    0                  0            4   \n",
      "4                     1                    0                  0            4   \n",
      "...                 ...                  ...                ...          ...   \n",
      "9546                  0                    0                  0            3   \n",
      "9547                  0                    0                  0            3   \n",
      "9548                  0                    0                  0            4   \n",
      "9549                  0                    0                  0            4   \n",
      "9550                  0                    0                  0            2   \n",
      "\n",
      "      Aggregate rating  ...  Teriyaki  Tex-Mex Thai  Tibetan  Turkish  \\\n",
      "0                  4.8  ...         0        0    0        0        0   \n",
      "1                  4.5  ...         0        0    0        0        0   \n",
      "2                  4.4  ...         0        0    0        0        0   \n",
      "3                  4.9  ...         0        0    0        0        0   \n",
      "4                  4.8  ...         0        0    0        0        0   \n",
      "...                ...  ...       ...      ...  ...      ...      ...   \n",
      "9546               4.1  ...         0        0    0        0        1   \n",
      "9547               4.2  ...         0        0    0        0        0   \n",
      "9548               3.7  ...         0        0    0        0        0   \n",
      "9549               4.0  ...         0        0    0        0        0   \n",
      "9550               4.0  ...         0        0    0        0        0   \n",
      "\n",
      "      Turkish Pizza  Vegetarian  Vietnamese  Western  World Cuisine  \n",
      "0                 0           0           0        0              0  \n",
      "1                 0           0           0        0              0  \n",
      "2                 0           0           0        0              0  \n",
      "3                 0           0           0        0              0  \n",
      "4                 0           0           0        0              0  \n",
      "...             ...         ...         ...      ...            ...  \n",
      "9546              0           0           0        0              0  \n",
      "9547              0           0           0        0              1  \n",
      "9548              0           0           0        0              1  \n",
      "9549              0           0           0        0              0  \n",
      "9550              0           0           0        0              0  \n",
      "\n",
      "[9542 rows x 158 columns]\n"
     ]
    }
   ],
   "source": [
    "df['Cuisine_list'] = df['Cuisines'].str.split(', ')\n",
    "mlb = MultiLabelBinarizer()\n",
    "df_encoded = df.join(pd.DataFrame(mlb.fit_transform(df.pop('Cuisine_list')),\n",
    "                                 columns = mlb.classes_,\n",
    "                                 index = df.index))\n",
    "print(df_encoded.head(2))"
   ]
  },
  {
   "cell_type": "code",
   "execution_count": 30,
   "id": "126c6fee",
   "metadata": {},
   "outputs": [],
   "source": [
    "df_encoded['Target'] = le.fit_transform(df_encoded['Target'])"
   ]
  },
  {
   "cell_type": "code",
   "execution_count": 31,
   "id": "4d222b57",
   "metadata": {},
   "outputs": [
    {
     "data": {
      "text/plain": [
       "0        39\n",
       "1        55\n",
       "2        97\n",
       "3        55\n",
       "4        55\n",
       "       ... \n",
       "9546    114\n",
       "9547    118\n",
       "9548     54\n",
       "9549     93\n",
       "9550     23\n",
       "Name: Target, Length: 9542, dtype: int32"
      ]
     },
     "execution_count": 31,
     "metadata": {},
     "output_type": "execute_result"
    }
   ],
   "source": [
    "df_encoded['Target']"
   ]
  },
  {
   "cell_type": "code",
   "execution_count": 32,
   "id": "c0e57e8d",
   "metadata": {},
   "outputs": [
    {
     "data": {
      "text/plain": [
       "['Restaurant Name',\n",
       " 'Country Code',\n",
       " 'Cuisines',\n",
       " 'Average Cost for two',\n",
       " 'Currency',\n",
       " 'Has Table booking',\n",
       " 'Has Online delivery',\n",
       " 'Is delivering now',\n",
       " 'Price range',\n",
       " 'Aggregate rating',\n",
       " 'Rating color',\n",
       " 'Votes',\n",
       " 'Target',\n",
       " 'Afghani',\n",
       " 'African',\n",
       " 'American',\n",
       " 'Andhra',\n",
       " 'Arabian',\n",
       " 'Argentine',\n",
       " 'Armenian',\n",
       " 'Asian',\n",
       " 'Asian Fusion',\n",
       " 'Assamese',\n",
       " 'Australian',\n",
       " 'Awadhi',\n",
       " 'BBQ',\n",
       " 'Bakery',\n",
       " 'Bar Food',\n",
       " 'Belgian',\n",
       " 'Bengali',\n",
       " 'Beverages',\n",
       " 'Bihari',\n",
       " 'Biryani',\n",
       " 'Brazilian',\n",
       " 'Breakfast',\n",
       " 'British',\n",
       " 'Bubble Tea',\n",
       " 'Burger',\n",
       " 'Burmese',\n",
       " 'B�_rek',\n",
       " 'Cafe',\n",
       " 'Cajun',\n",
       " 'Canadian',\n",
       " 'Cantonese',\n",
       " 'Caribbean',\n",
       " 'Charcoal Grill',\n",
       " 'Chettinad',\n",
       " 'Chinese',\n",
       " 'Coffee and Tea',\n",
       " 'Contemporary',\n",
       " 'Continental',\n",
       " 'Cuban',\n",
       " 'Cuisine Varies',\n",
       " 'Curry',\n",
       " 'Deli',\n",
       " 'Desserts',\n",
       " 'Dim Sum',\n",
       " 'Diner',\n",
       " 'Drinks Only',\n",
       " 'Durban',\n",
       " 'D�_ner',\n",
       " 'European',\n",
       " 'Fast Food',\n",
       " 'Filipino',\n",
       " 'Finger Food',\n",
       " 'Fish and Chips',\n",
       " 'French',\n",
       " 'Fusion',\n",
       " 'German',\n",
       " 'Goan',\n",
       " 'Gourmet Fast Food',\n",
       " 'Greek',\n",
       " 'Grill',\n",
       " 'Gujarati',\n",
       " 'Hawaiian',\n",
       " 'Healthy Food',\n",
       " 'Hyderabadi',\n",
       " 'Ice Cream',\n",
       " 'Indian',\n",
       " 'Indonesian',\n",
       " 'International',\n",
       " 'Iranian',\n",
       " 'Irish',\n",
       " 'Italian',\n",
       " 'Izgara',\n",
       " 'Japanese',\n",
       " 'Juices',\n",
       " 'Kashmiri',\n",
       " 'Kebab',\n",
       " 'Kerala',\n",
       " 'Kiwi',\n",
       " 'Korean',\n",
       " 'Latin American',\n",
       " 'Lebanese',\n",
       " 'Lucknowi',\n",
       " 'Maharashtrian',\n",
       " 'Malay',\n",
       " 'Malaysian',\n",
       " 'Malwani',\n",
       " 'Mangalorean',\n",
       " 'Mediterranean',\n",
       " 'Mexican',\n",
       " 'Middle Eastern',\n",
       " 'Mineira',\n",
       " 'Mithai',\n",
       " 'Modern Australian',\n",
       " 'Modern Indian',\n",
       " 'Moroccan',\n",
       " 'Mughlai',\n",
       " 'Naga',\n",
       " 'Nepalese',\n",
       " 'New American',\n",
       " 'North Eastern',\n",
       " 'North Indian',\n",
       " 'Oriya',\n",
       " 'Pakistani',\n",
       " 'Parsi',\n",
       " 'Patisserie',\n",
       " 'Peranakan',\n",
       " 'Persian',\n",
       " 'Peruvian',\n",
       " 'Pizza',\n",
       " 'Portuguese',\n",
       " 'Pub Food',\n",
       " 'Rajasthani',\n",
       " 'Ramen',\n",
       " 'Raw Meats',\n",
       " 'Restaurant Cafe',\n",
       " 'Salad',\n",
       " 'Sandwich',\n",
       " 'Scottish',\n",
       " 'Seafood',\n",
       " 'Singaporean',\n",
       " 'Soul Food',\n",
       " 'South African',\n",
       " 'South American',\n",
       " 'South Indian',\n",
       " 'Southern',\n",
       " 'Southwestern',\n",
       " 'Spanish',\n",
       " 'Sri Lankan',\n",
       " 'Steak',\n",
       " 'Street Food',\n",
       " 'Sunda',\n",
       " 'Sushi',\n",
       " 'Taiwanese',\n",
       " 'Tapas',\n",
       " 'Tea',\n",
       " 'Teriyaki',\n",
       " 'Tex-Mex',\n",
       " 'Thai',\n",
       " 'Tibetan',\n",
       " 'Turkish',\n",
       " 'Turkish Pizza',\n",
       " 'Vegetarian',\n",
       " 'Vietnamese',\n",
       " 'Western',\n",
       " 'World Cuisine']"
      ]
     },
     "execution_count": 32,
     "metadata": {},
     "output_type": "execute_result"
    }
   ],
   "source": [
    "df_encoded.columns.tolist()"
   ]
  },
  {
   "cell_type": "code",
   "execution_count": 41,
   "id": "66fff3c1",
   "metadata": {},
   "outputs": [],
   "source": [
    "y = df_encoded['Target']\n",
    "X = df_encoded.drop(['Restaurant Name','Target','Cuisines'],axis=1)"
   ]
  },
  {
   "cell_type": "code",
   "execution_count": 43,
   "id": "edd3966e",
   "metadata": {},
   "outputs": [],
   "source": [
    "from sklearn.model_selection import train_test_split"
   ]
  },
  {
   "cell_type": "code",
   "execution_count": 44,
   "id": "9f0869e7",
   "metadata": {},
   "outputs": [],
   "source": [
    "X_train,X_test,y_train,y_test = train_test_split(X,y,test_size=0.2)"
   ]
  },
  {
   "cell_type": "code",
   "execution_count": 45,
   "id": "0f0458dc",
   "metadata": {},
   "outputs": [],
   "source": [
    "from sklearn.ensemble import RandomForestClassifier\n",
    "from sklearn.linear_model import LogisticRegression\n",
    "from sklearn.tree import DecisionTreeClassifier"
   ]
  },
  {
   "cell_type": "code",
   "execution_count": 46,
   "id": "7b25b6d9",
   "metadata": {},
   "outputs": [
    {
     "name": "stderr",
     "output_type": "stream",
     "text": [
      "D:\\anaconda\\lib\\site-packages\\sklearn\\linear_model\\_logistic.py:814: ConvergenceWarning: lbfgs failed to converge (status=1):\n",
      "STOP: TOTAL NO. of ITERATIONS REACHED LIMIT.\n",
      "\n",
      "Increase the number of iterations (max_iter) or scale the data as shown in:\n",
      "    https://scikit-learn.org/stable/modules/preprocessing.html\n",
      "Please also refer to the documentation for alternative solver options:\n",
      "    https://scikit-learn.org/stable/modules/linear_model.html#logistic-regression\n",
      "  n_iter_i = _check_optimize_result(\n"
     ]
    },
    {
     "data": {
      "text/plain": [
       "LogisticRegression()"
      ]
     },
     "execution_count": 46,
     "metadata": {},
     "output_type": "execute_result"
    }
   ],
   "source": [
    "model1 = LogisticRegression()\n",
    "model1.fit(X_train,y_train)"
   ]
  },
  {
   "cell_type": "code",
   "execution_count": 48,
   "id": "15c2e639",
   "metadata": {},
   "outputs": [
    {
     "data": {
      "text/plain": [
       "0.2891566265060241"
      ]
     },
     "execution_count": 48,
     "metadata": {},
     "output_type": "execute_result"
    }
   ],
   "source": [
    "model1.score(X_test,y_test)"
   ]
  },
  {
   "cell_type": "code",
   "execution_count": 50,
   "id": "d7be9c5b",
   "metadata": {},
   "outputs": [
    {
     "data": {
      "text/plain": [
       "0.788370874803562"
      ]
     },
     "execution_count": 50,
     "metadata": {},
     "output_type": "execute_result"
    }
   ],
   "source": [
    "model2 = DecisionTreeClassifier()\n",
    "model2.fit(X_train,y_train)\n",
    "model2.score(X_test,y_test)"
   ]
  },
  {
   "cell_type": "code",
   "execution_count": 51,
   "id": "85e598bf",
   "metadata": {},
   "outputs": [
    {
     "data": {
      "text/plain": [
       "0.8234677841801991"
      ]
     },
     "execution_count": 51,
     "metadata": {},
     "output_type": "execute_result"
    }
   ],
   "source": [
    "model3 = RandomForestClassifier()\n",
    "model3.fit(X_train,y_train)\n",
    "model3.score(X_test,y_test)"
   ]
  },
  {
   "cell_type": "code",
   "execution_count": 55,
   "id": "e72297a1",
   "metadata": {},
   "outputs": [],
   "source": [
    "from sklearn.metrics import classification_report, confusion_matrix"
   ]
  },
  {
   "cell_type": "code",
   "execution_count": 56,
   "id": "583c3e76",
   "metadata": {},
   "outputs": [],
   "source": [
    "y_pred = model3.predict(X_test)"
   ]
  },
  {
   "cell_type": "code",
   "execution_count": 57,
   "id": "c1262e90",
   "metadata": {},
   "outputs": [
    {
     "name": "stderr",
     "output_type": "stream",
     "text": [
      "D:\\anaconda\\lib\\site-packages\\sklearn\\metrics\\_classification.py:1318: UndefinedMetricWarning: Precision and F-score are ill-defined and being set to 0.0 in labels with no predicted samples. Use `zero_division` parameter to control this behavior.\n",
      "  _warn_prf(average, modifier, msg_start, len(result))\n",
      "D:\\anaconda\\lib\\site-packages\\sklearn\\metrics\\_classification.py:1318: UndefinedMetricWarning: Recall and F-score are ill-defined and being set to 0.0 in labels with no true samples. Use `zero_division` parameter to control this behavior.\n",
      "  _warn_prf(average, modifier, msg_start, len(result))\n",
      "D:\\anaconda\\lib\\site-packages\\sklearn\\metrics\\_classification.py:1318: UndefinedMetricWarning: Precision and F-score are ill-defined and being set to 0.0 in labels with no predicted samples. Use `zero_division` parameter to control this behavior.\n",
      "  _warn_prf(average, modifier, msg_start, len(result))\n",
      "D:\\anaconda\\lib\\site-packages\\sklearn\\metrics\\_classification.py:1318: UndefinedMetricWarning: Recall and F-score are ill-defined and being set to 0.0 in labels with no true samples. Use `zero_division` parameter to control this behavior.\n",
      "  _warn_prf(average, modifier, msg_start, len(result))\n",
      "D:\\anaconda\\lib\\site-packages\\sklearn\\metrics\\_classification.py:1318: UndefinedMetricWarning: Precision and F-score are ill-defined and being set to 0.0 in labels with no predicted samples. Use `zero_division` parameter to control this behavior.\n",
      "  _warn_prf(average, modifier, msg_start, len(result))\n",
      "D:\\anaconda\\lib\\site-packages\\sklearn\\metrics\\_classification.py:1318: UndefinedMetricWarning: Recall and F-score are ill-defined and being set to 0.0 in labels with no true samples. Use `zero_division` parameter to control this behavior.\n",
      "  _warn_prf(average, modifier, msg_start, len(result))\n"
     ]
    },
    {
     "data": {
      "text/plain": [
       "'              precision    recall  f1-score   support\\n\\n           0       0.00      0.00      0.00         0\\n           1       0.00      0.00      0.00         0\\n           2       0.90      0.90      0.90        51\\n           3       0.00      0.00      0.00         1\\n           4       0.00      0.00      0.00         2\\n           6       0.56      0.42      0.48        12\\n           8       0.00      0.00      0.00         0\\n           9       0.00      0.00      0.00         0\\n          10       0.00      0.00      0.00         3\\n          11       0.80      0.67      0.73         6\\n          12       0.92      0.98      0.95       125\\n          13       1.00      0.50      0.67         2\\n          14       0.33      0.25      0.29         4\\n          15       0.92      0.80      0.86        15\\n          17       1.00      0.83      0.91        18\\n          18       0.86      0.86      0.86         7\\n          19       0.67      1.00      0.80         2\\n          20       1.00      1.00      1.00         1\\n          21       0.71      0.58      0.64        26\\n          22       1.00      1.00      1.00         1\\n          23       0.91      0.99      0.95       111\\n          25       0.00      0.00      0.00         1\\n          27       0.77      0.69      0.73       170\\n          28       0.75      1.00      0.86         3\\n          30       0.67      0.42      0.51        53\\n          31       0.00      0.00      0.00         0\\n          33       0.83      0.65      0.73        31\\n          35       0.57      0.47      0.52        17\\n          36       0.80      0.82      0.81       136\\n          37       1.00      1.00      1.00         1\\n          38       0.75      0.80      0.77        15\\n          39       1.00      0.50      0.67         4\\n          40       1.00      0.50      0.67         2\\n          41       0.00      0.00      0.00         1\\n          42       0.00      0.00      0.00         1\\n          43       0.00      0.00      0.00         1\\n          44       0.00      0.00      0.00         1\\n          46       1.00      1.00      1.00         1\\n          47       1.00      0.83      0.91        12\\n          48       0.00      0.00      0.00         2\\n          49       0.83      0.96      0.89        26\\n          50       0.93      1.00      0.97        14\\n          52       1.00      0.50      0.67         4\\n          54       0.77      0.64      0.70        64\\n          55       0.78      0.93      0.85        15\\n          56       1.00      1.00      1.00         1\\n          57       1.00      0.33      0.50         3\\n          58       1.00      1.00      1.00         3\\n          59       0.00      0.00      0.00         3\\n          60       0.00      0.00      0.00         1\\n          62       1.00      0.50      0.67         2\\n          63       0.50      1.00      0.67         1\\n          64       0.00      0.00      0.00         1\\n          65       1.00      1.00      1.00         2\\n          66       0.50      0.50      0.50         2\\n          67       0.00      0.00      0.00         1\\n          68       0.00      0.00      0.00         5\\n          69       0.88      1.00      0.94        15\\n          71       0.90      0.92      0.91        50\\n          72       0.00      0.00      0.00         1\\n          73       1.00      0.67      0.80         3\\n          74       0.88      0.58      0.70        50\\n          76       1.00      1.00      1.00         2\\n          78       0.00      0.00      0.00         1\\n          79       0.80      0.96      0.87       583\\n          82       0.67      1.00      0.80         2\\n          83       0.00      0.00      0.00         1\\n          87       0.89      0.89      0.89        45\\n          88       1.00      0.50      0.67         2\\n          89       0.00      0.00      0.00         1\\n          90       0.00      0.00      0.00         2\\n          92       1.00      0.97      0.98        30\\n          93       1.00      1.00      1.00         1\\n          95       0.00      0.00      0.00         1\\n          97       0.50      0.40      0.44         5\\n         100       0.80      0.75      0.77        55\\n         101       0.50      1.00      0.67         1\\n         102       1.00      0.50      0.67         2\\n         104       1.00      0.67      0.80         3\\n         105       0.97      0.78      0.87        46\\n         106       1.00      1.00      1.00         1\\n         107       1.00      0.25      0.40         4\\n         108       1.00      1.00      1.00         1\\n         110       0.33      1.00      0.50         1\\n         112       0.50      0.25      0.33         4\\n         113       0.33      0.20      0.25         5\\n         114       1.00      0.33      0.50         3\\n         118       0.00      0.00      0.00         1\\n\\n    accuracy                           0.82      1909\\n   macro avg       0.59      0.53      0.54      1909\\nweighted avg       0.81      0.82      0.81      1909\\n'"
      ]
     },
     "execution_count": 57,
     "metadata": {},
     "output_type": "execute_result"
    }
   ],
   "source": [
    "cr = classification_report(y_test,y_pred)\n",
    "cr"
   ]
  },
  {
   "cell_type": "code",
   "execution_count": 58,
   "id": "919bda7a",
   "metadata": {},
   "outputs": [
    {
     "data": {
      "text/plain": [
       "array([[ 0,  0,  0, ...,  0,  0,  0],\n",
       "       [ 0,  0,  0, ...,  0,  0,  0],\n",
       "       [ 0,  0, 46, ...,  0,  0,  0],\n",
       "       ...,\n",
       "       [ 1,  0,  0, ...,  1,  0,  0],\n",
       "       [ 0,  0,  0, ...,  0,  1,  0],\n",
       "       [ 0,  0,  0, ...,  0,  0,  0]], dtype=int64)"
      ]
     },
     "execution_count": 58,
     "metadata": {},
     "output_type": "execute_result"
    }
   ],
   "source": [
    "cm = confusion_matrix(y_test,y_pred)\n",
    "cm"
   ]
  },
  {
   "cell_type": "code",
   "execution_count": 59,
   "id": "5b045a7b",
   "metadata": {},
   "outputs": [],
   "source": [
    "import seaborn as sns"
   ]
  },
  {
   "cell_type": "code",
   "execution_count": 61,
   "id": "70bd8829",
   "metadata": {},
   "outputs": [
    {
     "data": {
      "image/png": "[encoded data removed]",
      "text/plain": [
       "<Figure size 1440x1296 with 2 Axes>"
      ]
     },
     "metadata": {
      "needs_background": "light"
     },
     "output_type": "display_data"
    }
   ],
   "source": [
    "plt.figure(figsize=(20,18))\n",
    "sns.heatmap(cm,annot=True,fmt='g')\n",
    "plt.xlabel('Actuval')\n",
    "plt.ylabel('Predicted')\n",
    "plt.show()"
   ]
  },
  {
   "cell_type": "code",
   "execution_count": null,
   "id": "47e3c4fe",
   "metadata": {},
   "outputs": [],
   "source": []
  }
 ],
 "metadata": {
  "kernelspec": {
   "display_name": "Python 3 (ipykernel)",
   "language": "python",
   "name": "python3"
  },
  "language_info": {
   "codemirror_mode": {
    "name": "ipython",
    "version": 3
   },
   "file_extension": ".py",
   "mimetype": "text/x-python",
   "name": "python",
   "nbconvert_exporter": "python",
   "pygments_lexer": "ipython3",
   "version": "3.9.12"
  }
 },
 "nbformat": 4,
 "nbformat_minor": 5
}
